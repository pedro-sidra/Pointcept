{
 "cells": [
  {
   "cell_type": "code",
   "execution_count": null,
   "metadata": {},
   "outputs": [],
   "source": [
    "%cd /workspaces/Pointcept\n",
    "from pointcept.engines.defaults import  default_setup\n",
    "from pointcept.engines.defaults import (\n",
    "    default_argument_parser,\n",
    "    default_config_parser,\n",
    ")\n",
    "from pointcept.engines.train import TRAINERS\n",
    "import torch\n",
    "import numpy as np"
   ]
  },
  {
   "cell_type": "code",
   "execution_count": null,
   "metadata": {},
   "outputs": [],
   "source": [
    "args = default_argument_parser().parse_args(\n",
    "    \"--config-file /workspaces/Pointcept/configs/scannet/pipeline-sculpting-spunet.py --num-gpus 0 --options num_workers=0 num_worker_per_gpu=0 batch_size=1\".split()\n",
    ")\n",
    "cfg = default_config_parser(args.config_file, args.options)"
   ]
  },
  {
   "cell_type": "code",
   "execution_count": null,
   "metadata": {},
   "outputs": [],
   "source": [
    "cfg = default_setup(cfg)\n",
    "#cfg.num_worker_per_gpu=0\n",
    "trainer = TRAINERS.build(dict(type=cfg.train.type, cfg=cfg))"
   ]
  },
  {
   "cell_type": "code",
   "execution_count": null,
   "metadata": {},
   "outputs": [],
   "source": [
    "train_loader = trainer.train_loader\n",
    "i, b = next(enumerate(train_loader))\n",
    "\n",
    "b"
   ]
  },
  {
   "cell_type": "markdown",
   "metadata": {},
   "source": [
    "# Example scene & parameters"
   ]
  },
  {
   "cell_type": "code",
   "execution_count": null,
   "metadata": {},
   "outputs": [],
   "source": [
    "noise_p0 = b['coord'][np.random.randint(0,len(b['coord']))]\n",
    "noise_size=0.3\n",
    "noise_cell_size=0.02\n",
    "noise_num_cells=int(noise_size//noise_cell_size)"
   ]
  },
  {
   "cell_type": "markdown",
   "metadata": {},
   "source": [
    "# Perlin"
   ]
  },
  {
   "cell_type": "code",
   "execution_count": null,
   "metadata": {},
   "outputs": [],
   "source": [
    "!python -m pip install git+https://github.com/pvigier/perlin-numpy\n"
   ]
  },
  {
   "cell_type": "code",
   "execution_count": null,
   "metadata": {},
   "outputs": [],
   "source": [
    "from perlin_numpy import (\n",
    "    generate_fractal_noise_2d, generate_fractal_noise_3d,\n",
    "    generate_perlin_noise_2d, generate_perlin_noise_3d\n",
    ")\n",
    "import matplotlib.pyplot as plt\n",
    "import plotly.express as px"
   ]
  },
  {
   "cell_type": "code",
   "execution_count": null,
   "metadata": {},
   "outputs": [],
   "source": [
    "noise = generate_perlin_noise_3d(\n",
    "    (noise_num_cells,noise_num_cells,noise_num_cells),\n",
    "    (2, 2, 2), tileable=(False,False,False)\n",
    ")\n",
    "\n",
    "noise\n",
    "\n",
    "i,j,k=np.indices(noise.shape)\n",
    "\n",
    "noise=noise.flatten()\n",
    "i=i.flatten()\n",
    "j=j.flatten()\n",
    "k=k.flatten()\n",
    "\n",
    "print(i)\n",
    "print(j)\n",
    "print(k)\n",
    "print(noise)"
   ]
  },
  {
   "cell_type": "code",
   "execution_count": null,
   "metadata": {},
   "outputs": [],
   "source": [
    "px.scatter_3d(x=i,y=j,z=k,color=noise, opacity=0.5)"
   ]
  },
  {
   "cell_type": "code",
   "execution_count": null,
   "metadata": {},
   "outputs": [],
   "source": [
    "import pandas as pd\n",
    "\n",
    "def make_thr_df(v, num=20, inverse=False, sliced=False, slice_width=1):\n",
    "    thresholds = np.linspace(v.min(),v.max(),num=num)\n",
    "    if sliced:\n",
    "        sel = [ np.bitwise_and(v>tminus1,v<t) for tminus1,t in zip(thresholds,np.roll(thresholds, -1*slice_width)) ]\n",
    "    elif inverse:\n",
    "        sel = [v<t for t in thresholds]\n",
    "    else:\n",
    "        sel = [v>t for t in thresholds]\n",
    "    i_=np.hstack([i[s] for s in sel])\n",
    "    j_=np.hstack([j[s] for s in sel])\n",
    "    k_=np.hstack([k[s] for s in sel])\n",
    "    v_=np.hstack([v[s] for s in sel])\n",
    "    t_=np.hstack([v[s]*0+t for s, t in zip(sel,thresholds)])\n",
    "    df = pd.DataFrame(dict(i=i_,j=j_,k=k_,value=v_, t=t_))\n",
    "    return df\n",
    "\n",
    "def slider_3dplot(v, num=20, inverse=False, sliced=False, slice_width=1):\n",
    "    df = make_thr_df(v, num, inverse, sliced, slice_width)\n",
    "    return px.scatter_3d(df, x=\"i\",y=\"j\",z=\"k\",color=\"value\",animation_frame=\"t\", range_color =[v.min(),v.max()])"
   ]
  },
  {
   "cell_type": "code",
   "execution_count": null,
   "metadata": {},
   "outputs": [],
   "source": [
    "for n in range(1):\n",
    "    noise = generate_perlin_noise_3d(\n",
    "        (noise_num_cells*10,noise_num_cells*10,noise_num_cells*10),\n",
    "        (2, 2, 2), tileable=(False,False,False)\n",
    "    )\n",
    "    i,j,k=np.indices(noise.shape)\n",
    "\n",
    "    noise=noise.flatten()\n",
    "    i=i.flatten()\n",
    "    j=j.flatten()\n",
    "    k=k.flatten()\n",
    "\n",
    "    df = make_thr_df(noise, sliced=True)\n",
    "    df.to_csv(f\"perlin_{n}.csv\", index=False)"
   ]
  },
  {
   "cell_type": "code",
   "execution_count": null,
   "metadata": {},
   "outputs": [],
   "source": [
    "# ranges...\n",
    "np.min(noise),np.max(noise)"
   ]
  },
  {
   "cell_type": "code",
   "execution_count": null,
   "metadata": {},
   "outputs": [],
   "source": [
    "slider_3dplot(v=noise)"
   ]
  },
  {
   "cell_type": "code",
   "execution_count": null,
   "metadata": {},
   "outputs": [],
   "source": [
    "slider_3dplot(v=noise, inverse=True)"
   ]
  },
  {
   "cell_type": "code",
   "execution_count": null,
   "metadata": {},
   "outputs": [],
   "source": [
    "slider_3dplot(v=noise, sliced=True)"
   ]
  },
  {
   "cell_type": "code",
   "execution_count": null,
   "metadata": {},
   "outputs": [],
   "source": [
    "slider_3dplot(v=noise, sliced=True, num=50, slice_width=4)"
   ]
  },
  {
   "cell_type": "code",
   "execution_count": null,
   "metadata": {},
   "outputs": [],
   "source": [
    "noise_rand_full = np.random.rand(*noise.shape)\n",
    "slider_3dplot(v=noise_rand_full, inverse=True)"
   ]
  },
  {
   "cell_type": "code",
   "execution_count": null,
   "metadata": {},
   "outputs": [],
   "source": [
    "!python -m pip install opensimplex"
   ]
  },
  {
   "cell_type": "code",
   "execution_count": null,
   "metadata": {},
   "outputs": [],
   "source": [
    "k"
   ]
  },
  {
   "cell_type": "code",
   "execution_count": null,
   "metadata": {},
   "outputs": [],
   "source": [
    "import opensimplex\n",
    "\n",
    "simplex_max_coord = 3\n",
    "coord_range = (np.linspace(0,1,num=noise_num_cells)*simplex_max_coord)\n",
    "noise=(\n",
    "    opensimplex.noise3array( coord_range,coord_range,coord_range).flatten()\n",
    "            )\n",
    "print(noise.min(),noise.max())\n",
    "noise[:2]"
   ]
  },
  {
   "cell_type": "code",
   "execution_count": null,
   "metadata": {},
   "outputs": [],
   "source": [
    "slider_3dplot(v=noise, sliced=True)"
   ]
  },
  {
   "cell_type": "code",
   "execution_count": null,
   "metadata": {},
   "outputs": [],
   "source": [
    "import scipy\n",
    "\n",
    "slider_3dplot(v=np.abs(noise))"
   ]
  },
  {
   "cell_type": "markdown",
   "metadata": {},
   "source": [
    "# Surface"
   ]
  },
  {
   "cell_type": "markdown",
   "metadata": {},
   "source": []
  },
  {
   "cell_type": "code",
   "execution_count": null,
   "metadata": {},
   "outputs": [],
   "source": [
    "\n",
    "noise = generate_perlin_noise_3d(\n",
    "    (noise_num_cells,noise_num_cells,noise_num_cells),\n",
    "    (2, 2, 2), tileable=(False,False,False)\n",
    ")\n",
    "i,j,k=np.indices(noise.shape)\n",
    "\n",
    "noise=noise.flatten()\n",
    "\n",
    "locs = np.bitwise_and(noise<0.1,noise>-0.1)\n",
    "\n",
    "i=noise_cell_size*i.flatten()[locs]+noise_p0[0].numpy()\n",
    "j=noise_cell_size*j.flatten()[locs]+noise_p0[1].numpy()\n",
    "k=noise_cell_size*k.flatten()[locs]+noise_p0[2].numpy()\n",
    "\n",
    "x=b['coord'][:,0]\n",
    "y=b['coord'][:,1]\n",
    "z=b['coord'][:,2]\n",
    "\n",
    "pd.DataFrame(dict(x=i,y=j,z=k,noise=noise[locs])).to_csv(\"cube.csv\", index=False)\n",
    "pd.DataFrame(dict(x=x,y=y,z=z)).to_csv(\"scene.csv\", index=False)"
   ]
  }
 ],
 "metadata": {
  "kernelspec": {
   "display_name": "base",
   "language": "python",
   "name": "python3"
  },
  "language_info": {
   "codemirror_mode": {
    "name": "ipython",
    "version": 3
   },
   "file_extension": ".py",
   "mimetype": "text/x-python",
   "name": "python",
   "nbconvert_exporter": "python",
   "pygments_lexer": "ipython3",
   "version": "3.10.11"
  }
 },
 "nbformat": 4,
 "nbformat_minor": 2
}
